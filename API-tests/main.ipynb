{
 "cells": [
  {
   "cell_type": "code",
   "execution_count": null,
   "id": "216ba82a",
   "metadata": {},
   "outputs": [],
   "source": [
    "!pip install requests PyPDF2\n"
   ]
  },
  {
   "cell_type": "code",
   "execution_count": null,
   "id": "2bac7a6b",
   "metadata": {},
   "outputs": [],
   "source": [
    "import requests\n",
    "import PyPDF2\n",
    "import json\n",
    "\n",
    "# 🔑 Replace with your actual OpenAI API key\n",
    "OPENAI_API_KEY = \"\"\n",
    "\n",
    "# OpenAI endpoint\n",
    "OPENAI_API_URL = \"https://api.openai.com/v1/chat/completions\"\n"
   ]
  },
  {
   "cell_type": "code",
   "execution_count": null,
   "id": "c4ff577e",
   "metadata": {},
   "outputs": [],
   "source": [
    "pdf_path = \"Lecture4.pdf\"  # change this to your PDF file name\n",
    "\n",
    "def extract_text_from_pdf(path):\n",
    "    text = \"\"\n",
    "    with open(path, \"rb\") as f:\n",
    "        reader = PyPDF2.PdfReader(f)\n",
    "        for page in reader.pages:\n",
    "            page_text = page.extract_text()\n",
    "            if page_text:\n",
    "                text += page_text\n",
    "    return text\n",
    "\n",
    "pdf_text = extract_text_from_pdf(pdf_path)\n",
    "print(\"✅ PDF text extracted successfully! Total characters:\", len(pdf_text))\n"
   ]
  },
  {
   "cell_type": "code",
   "execution_count": null,
   "id": "977e4ae6",
   "metadata": {},
   "outputs": [],
   "source": [
    "def ask_openai(question, context):\n",
    "    headers = {\n",
    "        \"Content-Type\": \"application/json\",\n",
    "        \"Authorization\": f\"Bearer {OPENAI_API_KEY}\"\n",
    "    }\n",
    "\n",
    "    data = {\n",
    "        \"model\": \"gpt-4o-mini\",  # fast and affordable model\n",
    "        \"messages\": [\n",
    "            {\"role\": \"system\", \"content\": \"You are a helpful assistant. Answer only based on the PDF context.\"},\n",
    "            {\"role\": \"user\", \"content\": f\"Context:\\n{context[:4000]}\"},\n",
    "            {\"role\": \"user\", \"content\": f\"Question: {question}\"}\n",
    "        ]\n",
    "    }\n",
    "\n",
    "    response = requests.post(OPENAI_API_URL, headers=headers, data=json.dumps(data))\n",
    "\n",
    "    if response.status_code == 200:\n",
    "        result = response.json()\n",
    "        return result[\"choices\"][0][\"message\"][\"content\"]\n",
    "    else:\n",
    "        return f\"❌ Error {response.status_code}: {response.text}\"\n"
   ]
  }
 ],
 "metadata": {
  "kernelspec": {
   "display_name": "Python 3",
   "language": "python",
   "name": "python3"
  },
  "language_info": {
   "codemirror_mode": {
    "name": "ipython",
    "version": 3
   },
   "file_extension": ".py",
   "mimetype": "text/x-python",
   "name": "python",
   "nbconvert_exporter": "python",
   "pygments_lexer": "ipython3",
   "version": "3.9.6"
  }
 },
 "nbformat": 4,
 "nbformat_minor": 5
}
